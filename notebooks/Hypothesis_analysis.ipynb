{
 "cells": [
  {
   "cell_type": "markdown",
   "id": "74006277",
   "metadata": {},
   "source": [
    "# Task 3"
   ]
  },
  {
   "cell_type": "code",
   "execution_count": 1,
   "id": "33f63a44",
   "metadata": {},
   "outputs": [
    {
     "name": "stderr",
     "output_type": "stream",
     "text": [
      "C:\\Users\\Bereket\\AppData\\Local\\Temp\\ipykernel_6532\\1447819143.py:4: DtypeWarning: Columns (32,37) have mixed types. Specify dtype option on import or set low_memory=False.\n",
      "  df = pd.read_csv('../data/MachineLearningRating_v3.txt', delimiter='|', encoding='utf-8')\n"
     ]
    }
   ],
   "source": [
    "import pandas as pd\n",
    "\n",
    "# Load data\n",
    "df = pd.read_csv('../data/MachineLearningRating_v3.txt', delimiter='|', encoding='utf-8')\n",
    "\n",
    "# Claim status\n",
    "df['HasClaim'] = df['TotalClaims'] > 0\n",
    "\n",
    "# Claim severity (filter rows with claims)\n",
    "df['ClaimSeverity'] = df['TotalClaims']\n",
    "df.loc[df['TotalClaims'] == 0, 'ClaimSeverity'] = None  # Avoid zero division\n",
    "\n",
    "# Margin\n",
    "df['Margin'] = df['TotalPremium'] - df['TotalClaims']"
   ]
  },
  {
   "cell_type": "markdown",
   "id": "284dc246",
   "metadata": {},
   "source": [
    "### H₀ #1: Risk difference by Province"
   ]
  },
  {
   "cell_type": "code",
   "execution_count": 2,
   "id": "c11917c9",
   "metadata": {},
   "outputs": [
    {
     "name": "stdout",
     "output_type": "stream",
     "text": [
      "Chi² Test for Claim Frequency by Province:\n",
      "Chi² = 104.19, p = 0.0000\n"
     ]
    }
   ],
   "source": [
    "import scipy.stats as stats\n",
    "\n",
    "contingency = pd.crosstab(df['Province'], df['HasClaim'])\n",
    "chi2, p, _, _ = stats.chi2_contingency(contingency)\n",
    "print(\"Chi² Test for Claim Frequency by Province:\")\n",
    "print(f\"Chi² = {chi2:.2f}, p = {p:.4f}\")"
   ]
  },
  {
   "cell_type": "code",
   "execution_count": 3,
   "id": "1b3e9758",
   "metadata": {},
   "outputs": [
    {
     "name": "stdout",
     "output_type": "stream",
     "text": [
      "ANOVA for Claim Severity by Province:\n",
      "F = 4.83, p = 0.0000\n"
     ]
    }
   ],
   "source": [
    "province_claims = df[df['HasClaim']].groupby('Province')['ClaimSeverity'].apply(list)\n",
    "anova_result = stats.f_oneway(*province_claims.dropna())\n",
    "print(\"ANOVA for Claim Severity by Province:\")\n",
    "print(f\"F = {anova_result.statistic:.2f}, p = {anova_result.pvalue:.4f}\")"
   ]
  },
  {
   "cell_type": "markdown",
   "id": "59b57e1f",
   "metadata": {},
   "source": [
    "### H₀ #2: Risk difference by ZipCode"
   ]
  },
  {
   "cell_type": "code",
   "execution_count": 4,
   "id": "73b60cec",
   "metadata": {},
   "outputs": [
    {
     "name": "stdout",
     "output_type": "stream",
     "text": [
      "ANOVA for Claim Severity by ZipCode:\n",
      "F = 2.56, p = 0.0000\n"
     ]
    }
   ],
   "source": [
    "zip_sample = df[df['HasClaim']].groupby('PostalCode').filter(lambda x: len(x) > 10)\n",
    "grouped_zip = zip_sample.groupby('PostalCode')['ClaimSeverity'].apply(list)\n",
    "\n",
    "anova_zip = stats.f_oneway(*grouped_zip)\n",
    "print(\"ANOVA for Claim Severity by ZipCode:\")\n",
    "print(f\"F = {anova_zip.statistic:.2f}, p = {anova_zip.pvalue:.4f}\")\n"
   ]
  },
  {
   "cell_type": "markdown",
   "id": "5ebb9cc5",
   "metadata": {},
   "source": [
    "### H₀ #3: Margin difference by ZipCode"
   ]
  },
  {
   "cell_type": "code",
   "execution_count": 5,
   "id": "86cc2a09",
   "metadata": {},
   "outputs": [
    {
     "name": "stdout",
     "output_type": "stream",
     "text": [
      "ANOVA for Margin by ZipCode:\n",
      "F = 0.87, p = 0.9977\n"
     ]
    }
   ],
   "source": [
    "margin_zip = df.groupby('PostalCode')['Margin'].apply(list)\n",
    "anova_margin = stats.f_oneway(*margin_zip)\n",
    "print(\"ANOVA for Margin by ZipCode:\")\n",
    "print(f\"F = {anova_margin.statistic:.2f}, p = {anova_margin.pvalue:.4f}\")\n"
   ]
  },
  {
   "cell_type": "markdown",
   "id": "fd567e45",
   "metadata": {},
   "source": [
    "### H₀ #4: Risk difference by Gender"
   ]
  },
  {
   "cell_type": "code",
   "execution_count": 6,
   "id": "63e0b745",
   "metadata": {},
   "outputs": [
    {
     "name": "stdout",
     "output_type": "stream",
     "text": [
      "Chi² for Gender vs Claim Frequency: Chi² = 7.26, p = 0.0266\n"
     ]
    }
   ],
   "source": [
    "contingency = pd.crosstab(df['Gender'], df['HasClaim'])\n",
    "chi2_gender, p_gender, _, _ = stats.chi2_contingency(contingency)\n",
    "print(f\"Chi² for Gender vs Claim Frequency: Chi² = {chi2_gender:.2f}, p = {p_gender:.4f}\")"
   ]
  },
  {
   "cell_type": "code",
   "execution_count": 7,
   "id": "27c152fc",
   "metadata": {},
   "outputs": [
    {
     "name": "stdout",
     "output_type": "stream",
     "text": [
      "T-test for Claim Severity (Male vs Female): t = -0.58, p = 0.5680\n"
     ]
    }
   ],
   "source": [
    "male_claims = df[(df['Gender'] == 'Male') & (df['HasClaim'])]['ClaimSeverity'].dropna()\n",
    "female_claims = df[(df['Gender'] == 'Female') & (df['HasClaim'])]['ClaimSeverity'].dropna()\n",
    "\n",
    "t_stat, p_val = stats.ttest_ind(male_claims, female_claims, equal_var=False)\n",
    "print(f\"T-test for Claim Severity (Male vs Female): t = {t_stat:.2f}, p = {p_val:.4f}\")\n"
   ]
  },
  {
   "cell_type": "code",
   "execution_count": null,
   "id": "8c246bd9",
   "metadata": {},
   "outputs": [],
   "source": []
  }
 ],
 "metadata": {
  "kernelspec": {
   "display_name": ".venv",
   "language": "python",
   "name": "python3"
  },
  "language_info": {
   "codemirror_mode": {
    "name": "ipython",
    "version": 3
   },
   "file_extension": ".py",
   "mimetype": "text/x-python",
   "name": "python",
   "nbconvert_exporter": "python",
   "pygments_lexer": "ipython3",
   "version": "3.13.3"
  }
 },
 "nbformat": 4,
 "nbformat_minor": 5
}
